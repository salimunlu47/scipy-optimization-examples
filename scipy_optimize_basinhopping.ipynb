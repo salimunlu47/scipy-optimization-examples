{
  "nbformat": 4,
  "nbformat_minor": 0,
  "metadata": {
    "colab": {
      "name": "scipy-optimize-basinhopping.ipynb",
      "provenance": [],
      "collapsed_sections": [],
      "authorship_tag": "ABX9TyP/O8dxSiSmNJQvCN1CGLSV",
      "include_colab_link": true
    },
    "kernelspec": {
      "name": "python3",
      "display_name": "Python 3"
    },
    "language_info": {
      "name": "python"
    }
  },
  "cells": [
    {
      "cell_type": "markdown",
      "metadata": {
        "id": "view-in-github",
        "colab_type": "text"
      },
      "source": [
        "<a href=\"https://colab.research.google.com/github/salimunlu47/scipy-optimization-examples/blob/main/scipy_optimize_basinhopping.ipynb\" target=\"_parent\"><img src=\"https://colab.research.google.com/assets/colab-badge.svg\" alt=\"Open In Colab\"/></a>"
      ]
    },
    {
      "cell_type": "markdown",
      "metadata": {
        "id": "wrQHnWF2tzVC"
      },
      "source": [
        "**Find the global minimum of a function using the basin-hopping algorithm**"
      ]
    },
    {
      "cell_type": "markdown",
      "metadata": {
        "id": "OEr-NJkwxOnx"
      },
      "source": [
        "The following example is a 1-D minimization problem, with many local minima superimposed on a parabola."
      ]
    },
    {
      "cell_type": "code",
      "metadata": {
        "id": "FNMInIhYtd3v"
      },
      "source": [
        "from scipy.optimize import basinhopping\n",
        "import numpy as np"
      ],
      "execution_count": 1,
      "outputs": []
    },
    {
      "cell_type": "code",
      "metadata": {
        "id": "PmwNawJ8u5Px"
      },
      "source": [
        "func = lambda x: np.cos(14.5 * x - 0.3) + (x + 0.2) * x"
      ],
      "execution_count": 2,
      "outputs": []
    },
    {
      "cell_type": "code",
      "metadata": {
        "colab": {
          "base_uri": "https://localhost:8080/"
        },
        "id": "mRDWjyJWu8lN",
        "outputId": "ba6041cc-db4c-4519-f258-151d5acbd226"
      },
      "source": [
        "x0=[1.]\n",
        "x0"
      ],
      "execution_count": 3,
      "outputs": [
        {
          "output_type": "execute_result",
          "data": {
            "text/plain": [
              "[1.0]"
            ]
          },
          "metadata": {
            "tags": []
          },
          "execution_count": 3
        }
      ]
    },
    {
      "cell_type": "code",
      "metadata": {
        "id": "q-UGLK7Qu95m"
      },
      "source": [
        "#In numerical optimization, the Broyden–Fletcher–Goldfarb–Shanno (BFGS) algorithm is an iterative method for solving unconstrained nonlinear optimization problems.\n",
        "minimizer_kwargs = {\"method\": \"BFGS\"}"
      ],
      "execution_count": 4,
      "outputs": []
    },
    {
      "cell_type": "code",
      "metadata": {
        "colab": {
          "base_uri": "https://localhost:8080/"
        },
        "id": "nhkBqtszva_x",
        "outputId": "aee0aef6-22c5-43ca-d8ff-75a8c3739e34"
      },
      "source": [
        "basinhopping(func, x0, minimizer_kwargs=minimizer_kwargs, niter=200)"
      ],
      "execution_count": 5,
      "outputs": [
        {
          "output_type": "execute_result",
          "data": {
            "text/plain": [
              "                        fun: -1.0008761844426555\n",
              " lowest_optimization_result:       fun: -1.0008761844426555\n",
              " hess_inv: array([[0.0047126]])\n",
              "      jac: array([1.62422657e-06])\n",
              "  message: 'Optimization terminated successfully.'\n",
              "     nfev: 21\n",
              "      nit: 4\n",
              "     njev: 7\n",
              "   status: 0\n",
              "  success: True\n",
              "        x: array([-0.19506755])\n",
              "                    message: ['requested number of basinhopping iterations completed successfully']\n",
              "      minimization_failures: 0\n",
              "                       nfev: 4608\n",
              "                        nit: 200\n",
              "                       njev: 1536\n",
              "                          x: array([-0.19506755])"
            ]
          },
          "metadata": {
            "tags": []
          },
          "execution_count": 5
        }
      ]
    },
    {
      "cell_type": "code",
      "metadata": {
        "colab": {
          "base_uri": "https://localhost:8080/"
        },
        "id": "ZJk-dAQrw-Hz",
        "outputId": "a926974d-37b9-4a30-98e0-5240d3bb0ba3"
      },
      "source": [
        "ret = basinhopping(func, x0, minimizer_kwargs=minimizer_kwargs, niter=200)\n",
        "print(\"global minimum: x = %.4f, f(x0) = %.4f\" % (ret.x, ret.fun))"
      ],
      "execution_count": 6,
      "outputs": [
        {
          "output_type": "stream",
          "text": [
            "global minimum: x = -0.1951, f(x0) = -1.0009\n"
          ],
          "name": "stdout"
        }
      ]
    },
    {
      "cell_type": "code",
      "metadata": {
        "colab": {
          "base_uri": "https://localhost:8080/",
          "height": 265
        },
        "id": "KN6vkUGhy90Q",
        "outputId": "b56d8bc1-90c2-40ba-e520-49cb7a6e304e"
      },
      "source": [
        "x = np.arange(-4*np.pi,4*np.pi,0.1)   # start,stop,step\n",
        "y = np.cos(14.5 * x - 0.3) + (x + 0.2) * x\n",
        "import matplotlib.pyplot as plt\n",
        "plt.plot(x,y)\n",
        "plt.show()"
      ],
      "execution_count": 7,
      "outputs": [
        {
          "output_type": "display_data",
          "data": {
            "image/png": "[encoded data removed]",
            "text/plain": [
              "<Figure size 432x288 with 1 Axes>"
            ]
          },
          "metadata": {
            "tags": [],
            "needs_background": "light"
          }
        }
      ]
    },
    {
      "cell_type": "markdown",
      "metadata": {
        "id": "mad4_slJxTV2"
      },
      "source": [
        "Next consider a 2-D minimization problem. Also, this time, we will use gradient information to significantly speed up the search."
      ]
    },
    {
      "cell_type": "code",
      "metadata": {
        "id": "T3JxbDJKxErD"
      },
      "source": [
        "def func2d(x):\n",
        "  f = np.cos(14.5 * x[0] - 0.3) + (x[1] + 0.2) * x[1] + (x[0] + 0.2) * x[0]\n",
        "  df = np.zeros(2)\n",
        "  df[0] = -14.5 * np.sin(14.5 * x[0] - 0.3) + 2. * x[0] + 0.2\n",
        "  df[1] = 2. * x[1] + 0.2\n",
        "  return f, df"
      ],
      "execution_count": 8,
      "outputs": []
    },
    {
      "cell_type": "markdown",
      "metadata": {
        "id": "gKyXGAGnyCTa"
      },
      "source": [
        "We’ll also use a different local minimization algorithm. Also, we must tell the minimizer that our function returns both energy and gradient (Jacobian)."
      ]
    },
    {
      "cell_type": "code",
      "metadata": {
        "id": "E0FH5L7Sx6CF"
      },
      "source": [
        "minimizer_kwargs = {\"method\":\"L-BFGS-B\", \"jac\":True}"
      ],
      "execution_count": 9,
      "outputs": []
    },
    {
      "cell_type": "code",
      "metadata": {
        "id": "_VxEdUyiyE-d"
      },
      "source": [
        "x0 = [1.0, 1.0]"
      ],
      "execution_count": 10,
      "outputs": []
    },
    {
      "cell_type": "code",
      "metadata": {
        "colab": {
          "base_uri": "https://localhost:8080/"
        },
        "id": "1WNM3JboyIAF",
        "outputId": "91fb9d76-96c3-465f-971e-9593fbaa2a05"
      },
      "source": [
        "basinhopping(func2d, x0, minimizer_kwargs=minimizer_kwargs, niter=200)"
      ],
      "execution_count": 11,
      "outputs": [
        {
          "output_type": "execute_result",
          "data": {
            "text/plain": [
              "                        fun: -1.0108761844426555\n",
              " lowest_optimization_result:       fun: -1.0108761844426555\n",
              " hess_inv: <2x2 LbfgsInvHessProduct with dtype=float64>\n",
              "      jac: array([-1.35804241e-07,  5.79722381e-12])\n",
              "  message: b'CONVERGENCE: NORM_OF_PROJECTED_GRADIENT_<=_PGTOL'\n",
              "     nfev: 14\n",
              "      nit: 10\n",
              "   status: 0\n",
              "  success: True\n",
              "        x: array([-0.19506755, -0.1       ])\n",
              "                    message: ['requested number of basinhopping iterations completed successfully']\n",
              "      minimization_failures: 0\n",
              "                       nfev: 2661\n",
              "                        nit: 200\n",
              "                          x: array([-0.19506755, -0.1       ])"
            ]
          },
          "metadata": {
            "tags": []
          },
          "execution_count": 11
        }
      ]
    },
    {
      "cell_type": "code",
      "metadata": {
        "colab": {
          "base_uri": "https://localhost:8080/"
        },
        "id": "Jlx3vtF8yLbE",
        "outputId": "a62460e0-944f-4be1-9a52-f30a04e775d4"
      },
      "source": [
        "ret = basinhopping(func2d, x0, minimizer_kwargs=minimizer_kwargs, niter=200)\n",
        "print(\"global minimum: x = [%.4f, %.4f], f(x0) = %.4f\" % (ret.x[0],\n",
        "                                                          ret.x[1],\n",
        "                                                          ret.fun))"
      ],
      "execution_count": 12,
      "outputs": [
        {
          "output_type": "stream",
          "text": [
            "global minimum: x = [-0.1951, -0.1000], f(x0) = -1.0109\n"
          ],
          "name": "stdout"
        }
      ]
    }
  ]
}