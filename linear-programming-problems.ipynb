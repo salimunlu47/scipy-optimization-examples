{
 "cells": [
  {
   "cell_type": "markdown",
   "metadata": {},
   "source": [
    "# Giapetto’s daily production of dolls and soldiers"
   ]
  },
  {
   "cell_type": "markdown",
   "metadata": {},
   "source": [
    "Giapetto’s Woodcarving manufactures two types of wooden toys: dolls and soldiers. A doll sells for 3 dollars, takes 3 minutes of machine work to produce and 1 minute of extra labor to finish the product. A soldier sells for $4, takes 2 minutes to produce and 2 minutes of extra labor. Each day, Giapetto has up to 200 minutes of machine time and 100 minutes of labor, and is required to manufacture at least 20 dolls and 10 soldiers. \n",
    "\n",
    "Find the optimal production that maximizes Giapetto’s daily profit."
   ]
  },
  {
   "attachments": {
    "image.png": {
     "image/png": "[encoded data removed]"
    }
   },
   "cell_type": "markdown",
   "metadata": {},
   "source": [
    "![image.png](attachment:image.png)"
   ]
  },
  {
   "cell_type": "code",
   "execution_count": 1,
   "metadata": {},
   "outputs": [],
   "source": [
    "#Import libraries\n",
    "import numpy as np\n",
    "from scipy.optimize import minimize"
   ]
  },
  {
   "cell_type": "code",
   "execution_count": 2,
   "metadata": {},
   "outputs": [],
   "source": [
    "#Profits: $3 per doll (x1), $4 per soldier (x2)\n",
    "def objective(x, sign=-1.0):\n",
    "    x1 = x[0]\n",
    "    x2 = x[1]\n",
    "    return 3*x1 + 4*x2"
   ]
  },
  {
   "cell_type": "code",
   "execution_count": 3,
   "metadata": {},
   "outputs": [],
   "source": [
    "#Resource #1 (machine hours): \n",
    "#Each doll takes 3 minutes to produce. \n",
    "#Each soldier takes 2 minutes. \n",
    "#Our machine can work a maximum of 200 min.\n",
    "def constraint1(x):\n",
    "    return 3*x[0] + 2*x[1] - 200.0"
   ]
  },
  {
   "cell_type": "code",
   "execution_count": 4,
   "metadata": {},
   "outputs": [],
   "source": [
    "#Resource #2 (extra-labor hours): \n",
    "#Each doll requires 1 minute of extra labor; \n",
    "#Each soldier requires 2 minutes. \n",
    "#We have a maximum of 100 min. in labor.\n",
    "def constraint2(x):\n",
    "    return x[0] + 2*x[1] - 100.0"
   ]
  },
  {
   "cell_type": "code",
   "execution_count": 5,
   "metadata": {},
   "outputs": [
    {
     "name": "stdout",
     "output_type": "stream",
     "text": [
      "140\n"
     ]
    }
   ],
   "source": [
    "#Initial guess\n",
    "x0 = [20,20]\n",
    "\n",
    "print(objective(x0))"
   ]
  },
  {
   "cell_type": "code",
   "execution_count": 6,
   "metadata": {},
   "outputs": [],
   "source": [
    "#Setting boundries\n",
    "bnds = ((20, None), (10, None))"
   ]
  },
  {
   "cell_type": "code",
   "execution_count": 7,
   "metadata": {},
   "outputs": [],
   "source": [
    "con1 = {'type': 'ineq', 'fun': constraint1}\n",
    "con2 = {'type': 'ineq', 'fun': constraint2}\n",
    "cons = ([con1,con2])"
   ]
  },
  {
   "cell_type": "code",
   "execution_count": 8,
   "metadata": {},
   "outputs": [],
   "source": [
    "solution = minimize(objective,x0,method='SLSQP',bounds=bnds,constraints=cons)"
   ]
  },
  {
   "cell_type": "code",
   "execution_count": 9,
   "metadata": {},
   "outputs": [
    {
     "name": "stdout",
     "output_type": "stream",
     "text": [
      "Final Objective: 250.00000000000722\n",
      "Solution\n",
      "x1 = 49.99999999999991\n",
      "x2 = 25.00000000000188\n"
     ]
    }
   ],
   "source": [
    "x = solution.x\n",
    "# show final objective\n",
    "print('Final Objective: ' + str(objective(x)))\n",
    "\n",
    "# print solution\n",
    "print('Solution')\n",
    "print('x1 = ' + str(x[0]))\n",
    "print('x2 = ' + str(x[1]))"
   ]
  }
 ],
 "metadata": {
  "kernelspec": {
   "display_name": "Python 3",
   "language": "python",
   "name": "python3"
  },
  "language_info": {
   "codemirror_mode": {
    "name": "ipython",
    "version": 3
   },
   "file_extension": ".py",
   "mimetype": "text/x-python",
   "name": "python",
   "nbconvert_exporter": "python",
   "pygments_lexer": "ipython3",
   "version": "3.7.4"
  }
 },
 "nbformat": 4,
 "nbformat_minor": 2
}
