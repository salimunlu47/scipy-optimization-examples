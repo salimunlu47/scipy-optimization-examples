{
  "nbformat": 4,
  "nbformat_minor": 0,
  "metadata": {
    "colab": {
      "name": "scipy-optimize-root_scalar.ipynb",
      "provenance": [],
      "authorship_tag": "ABX9TyOPh+aZprHSlr+p317a6sld",
      "include_colab_link": true
    },
    "kernelspec": {
      "name": "python3",
      "display_name": "Python 3"
    },
    "language_info": {
      "name": "python"
    }
  },
  "cells": [
    {
      "cell_type": "markdown",
      "metadata": {
        "id": "view-in-github",
        "colab_type": "text"
      },
      "source": [
        "<a href=\"https://colab.research.google.com/github/salimunlu47/scipy-optimization-examples/blob/main/scipy_optimize_root_scalar.ipynb\" target=\"_parent\"><img src=\"https://colab.research.google.com/assets/colab-badge.svg\" alt=\"Open In Colab\"/></a>"
      ]
    },
    {
      "cell_type": "markdown",
      "metadata": {
        "id": "JGsz7gbQnm9u"
      },
      "source": [
        "# **scipy.optimize.root_scalar**"
      ]
    },
    {
      "cell_type": "markdown",
      "metadata": {
        "id": "5PT7i0nJnsl8"
      },
      "source": [
        "Find the root of a simple cubic"
      ]
    },
    {
      "cell_type": "code",
      "metadata": {
        "id": "-ywQe0S8nW7B"
      },
      "source": [
        "from scipy import optimize"
      ],
      "execution_count": 1,
      "outputs": []
    },
    {
      "cell_type": "code",
      "metadata": {
        "id": "iH9zMMjFn3E5"
      },
      "source": [
        "def f(x):\n",
        "  return (x**3 - 1)  # only one real root at x = 1"
      ],
      "execution_count": 2,
      "outputs": []
    },
    {
      "cell_type": "code",
      "metadata": {
        "id": "nMFV67H5n-Fp"
      },
      "source": [
        "def fprime(x):\n",
        "  return 3*x**2"
      ],
      "execution_count": 3,
      "outputs": []
    },
    {
      "cell_type": "markdown",
      "metadata": {
        "id": "NaHcto7LoIfR"
      },
      "source": [
        "The brentq method takes as input a bracket"
      ]
    },
    {
      "cell_type": "code",
      "metadata": {
        "colab": {
          "base_uri": "https://localhost:8080/"
        },
        "id": "SdF4Xcf_oG1N",
        "outputId": "dc56c720-3dd3-409d-f8b8-70187c1ec4f5"
      },
      "source": [
        "optimize.root_scalar(f, method=\"brentq\", bracket=[0,3])"
      ],
      "execution_count": 4,
      "outputs": [
        {
          "output_type": "execute_result",
          "data": {
            "text/plain": [
              "      converged: True\n",
              "           flag: 'converged'\n",
              " function_calls: 11\n",
              "     iterations: 10\n",
              "           root: 1.0"
            ]
          },
          "metadata": {
            "tags": []
          },
          "execution_count": 4
        }
      ]
    },
    {
      "cell_type": "markdown",
      "metadata": {
        "id": "D9cf_id6o1mJ"
      },
      "source": [
        "The newton method takes as input a single point and uses the derivative(s)"
      ]
    },
    {
      "cell_type": "code",
      "metadata": {
        "colab": {
          "base_uri": "https://localhost:8080/"
        },
        "id": "3iStyXFEoA7m",
        "outputId": "c2073300-1a2f-4dcf-ccce-abef9064ea98"
      },
      "source": [
        "optimize.root_scalar(f, x0=0.2, fprime=fprime, method='newton')"
      ],
      "execution_count": 5,
      "outputs": [
        {
          "output_type": "execute_result",
          "data": {
            "text/plain": [
              "      converged: True\n",
              "           flag: 'converged'\n",
              " function_calls: 22\n",
              "     iterations: 11\n",
              "           root: 1.0"
            ]
          },
          "metadata": {
            "tags": []
          },
          "execution_count": 5
        }
      ]
    },
    {
      "cell_type": "markdown",
      "metadata": {
        "id": "nAUOiWJ_pNij"
      },
      "source": [
        "The function can provide the value and derivative(s) in a single call."
      ]
    },
    {
      "cell_type": "code",
      "metadata": {
        "id": "xgfVpS38pIIU"
      },
      "source": [
        "def f_p_pp(x):\n",
        "  return (x**3 - 1), 3*x**2, 6*x"
      ],
      "execution_count": 6,
      "outputs": []
    },
    {
      "cell_type": "code",
      "metadata": {
        "colab": {
          "base_uri": "https://localhost:8080/"
        },
        "id": "4JSb2tS1p5gZ",
        "outputId": "abedcf54-e37c-49b9-ff72-ea29a737d11f"
      },
      "source": [
        "optimize.root_scalar(f_p_pp, x0=0.2, fprime=True, method='newton')"
      ],
      "execution_count": 7,
      "outputs": [
        {
          "output_type": "execute_result",
          "data": {
            "text/plain": [
              "      converged: True\n",
              "           flag: 'converged'\n",
              " function_calls: 11\n",
              "     iterations: 11\n",
              "           root: 1.0"
            ]
          },
          "metadata": {
            "tags": []
          },
          "execution_count": 7
        }
      ]
    },
    {
      "cell_type": "code",
      "metadata": {
        "colab": {
          "base_uri": "https://localhost:8080/"
        },
        "id": "xWGfCH5sqCXN",
        "outputId": "0588a0fe-d402-41df-a0f7-69cbffc9ef68"
      },
      "source": [
        "optimize.root_scalar(f_p_pp, x0=0.2, fprime=True, fprime2=True, method='halley')"
      ],
      "execution_count": 8,
      "outputs": [
        {
          "output_type": "execute_result",
          "data": {
            "text/plain": [
              "      converged: True\n",
              "           flag: 'converged'\n",
              " function_calls: 8\n",
              "     iterations: 7\n",
              "           root: 1.0"
            ]
          },
          "metadata": {
            "tags": []
          },
          "execution_count": 8
        }
      ]
    },
    {
      "cell_type": "code",
      "metadata": {
        "id": "H1JcJHCgqGl9"
      },
      "source": [
        "def f1(x):\n",
        "  return(4*x**2 - 25)"
      ],
      "execution_count": 9,
      "outputs": []
    },
    {
      "cell_type": "code",
      "metadata": {
        "id": "17CKJ2kZrBP9"
      },
      "source": [
        "def f1prime(x):\n",
        "  return(8*x)"
      ],
      "execution_count": 10,
      "outputs": []
    },
    {
      "cell_type": "code",
      "metadata": {
        "colab": {
          "base_uri": "https://localhost:8080/"
        },
        "id": "PtHHeK1OqZn7",
        "outputId": "e90ea611-47fb-4738-99b9-7e01422f4a13"
      },
      "source": [
        "optimize.root_scalar(f1, method=\"brentq\", bracket=[0,3])"
      ],
      "execution_count": 11,
      "outputs": [
        {
          "output_type": "execute_result",
          "data": {
            "text/plain": [
              "      converged: True\n",
              "           flag: 'converged'\n",
              " function_calls: 8\n",
              "     iterations: 7\n",
              "           root: 2.5"
            ]
          },
          "metadata": {
            "tags": []
          },
          "execution_count": 11
        }
      ]
    },
    {
      "cell_type": "code",
      "metadata": {
        "colab": {
          "base_uri": "https://localhost:8080/"
        },
        "id": "xHKwXXC9qgMI",
        "outputId": "b9db0624-0753-4cbd-a180-716bcc39c357"
      },
      "source": [
        "optimize.root_scalar(f1, method=\"brentq\", bracket=[-3,0])"
      ],
      "execution_count": 12,
      "outputs": [
        {
          "output_type": "execute_result",
          "data": {
            "text/plain": [
              "      converged: True\n",
              "           flag: 'converged'\n",
              " function_calls: 8\n",
              "     iterations: 7\n",
              "           root: -2.5"
            ]
          },
          "metadata": {
            "tags": []
          },
          "execution_count": 12
        }
      ]
    },
    {
      "cell_type": "code",
      "metadata": {
        "colab": {
          "base_uri": "https://localhost:8080/"
        },
        "id": "1oTjc2kfq2Cn",
        "outputId": "a8980b0f-2680-45d4-a180-d45b19d16ab0"
      },
      "source": [
        "optimize.root_scalar(f1, x0=0.2, fprime=f1prime, method='newton')"
      ],
      "execution_count": 13,
      "outputs": [
        {
          "output_type": "execute_result",
          "data": {
            "text/plain": [
              "      converged: True\n",
              "           flag: 'converged'\n",
              " function_calls: 16\n",
              "     iterations: 8\n",
              "           root: 2.5"
            ]
          },
          "metadata": {
            "tags": []
          },
          "execution_count": 13
        }
      ]
    }
  ]
}